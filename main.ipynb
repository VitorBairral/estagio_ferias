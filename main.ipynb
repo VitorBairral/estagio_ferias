{
 "cells": [
  {
   "cell_type": "markdown",
   "id": "10d66981",
   "metadata": {},
   "source": [
    "# Magnetization of 2D materials through Ising Lattice simulations by Metropolis' Algorithm\n",
    "In this notebook, we'll simulate 2D materials using Ising models and Metropolis' Algorithm in order to predict it's magnetic funcoinalities and understand how they evolve through different temperatures. The chosen lattice is the Kagome Lattice, wich is known by showing curious properties, similar to an quantic Hall Effect, wich, in this structure, looks like some type of superconductivity. This behavious is observed in another materials subjected to very low temperatures and high magnetic fields, but in the kagome magnets, this properties can be seen even in standard conditions."
   ]
  },
  {
   "cell_type": "markdown",
   "id": "bea3f353",
   "metadata": {},
   "source": [
    "## Importing libraries"
   ]
  },
  {
   "cell_type": "code",
   "execution_count": 1,
   "id": "7915e73c",
   "metadata": {},
   "outputs": [],
   "source": [
    "import numpy as np\n",
    "import matplotlib.pyplot as plt\n",
    "from tqdm import tqdm\n",
    "import matplotlib.animation as animation\n",
    "from IPython.display import HTML"
   ]
  },
  {
   "cell_type": "markdown",
   "id": "4e3e3493",
   "metadata": {},
   "source": [
    "## Starting spin system"
   ]
  },
  {
   "cell_type": "code",
   "execution_count": null,
   "id": "b53069ef",
   "metadata": {},
   "outputs": [
    {
     "data": {
      "text/plain": [
       "array([[ 0.,  0.,  0., -1.,  0.,  0.,  0.,  1.,  0.,  0.],\n",
       "       [ 1.,  0., -1.,  0., -1.,  0., -1.,  0., -1.,  0.],\n",
       "       [ 0., -1.,  0.,  0.,  0.,  1.,  0.,  0.,  0., -1.],\n",
       "       [-1.,  0.,  1.,  0.,  1.,  0., -1.,  0., -1.,  0.],\n",
       "       [ 0.,  0.,  0., -1.,  0.,  0.,  0.,  1.,  0.,  0.],\n",
       "       [-1.,  0.,  1.,  0.,  1.,  0., -1.,  0.,  1.,  0.],\n",
       "       [ 0.,  1.,  0.,  0.,  0., -1.,  0.,  0.,  0., -1.],\n",
       "       [ 1.,  0.,  1.,  0.,  1.,  0., -1.,  0.,  1.,  0.],\n",
       "       [ 0.,  0.,  0., -1.,  0.,  0.,  0.,  1.,  0.,  0.],\n",
       "       [-1.,  0.,  1.,  0., -1.,  0., -1.,  0.,  1.,  0.]])"
      ]
     },
     "execution_count": 13,
     "metadata": {},
     "output_type": "execute_result"
    }
   ],
   "source": [
    "def start_lattice(L):\n",
    "    lattice = np.zeros((L, L))\n",
    "    \n",
    "    for i in range(L):\n",
    "        for j in range(L):\n",
    "            if i % 4 == 0:\n",
    "                if j % 4 == 3:\n",
    "                    lattice[i, j] = np.random.choice([-1, 1])\n",
    "            if i % 2 != 0:\n",
    "                if j % 2 == 0:\n",
    "                    lattice[i, j] = np.random.choice([-1, 1])\n",
    "            if i % 2 == 0 and i % 4 != 0:\n",
    "                if j % 4 == 1:\n",
    "                    lattice[i, j] = np.random.choice([-1, 1]) \n",
    "    return lattice\n",
    "\n"
   ]
  },
  {
   "cell_type": "code",
   "execution_count": 16,
   "id": "364a3444",
   "metadata": {},
   "outputs": [
    {
     "data": {
      "image/png": "[encoded data removed]",
      "text/plain": [
       "<Figure size 640x480 with 1 Axes>"
      ]
     },
     "metadata": {},
     "output_type": "display_data"
    }
   ],
   "source": [
    "rede = start_lattice(100)\n",
    "fig, ax = plt.subplots()\n",
    "img = ax.imshow(rede, cmap='coolwarm', vmin=-1, vmax=1)\n"
   ]
  }
 ],
 "metadata": {
  "kernelspec": {
   "display_name": "ising_py",
   "language": "python",
   "name": "python3"
  },
  "language_info": {
   "codemirror_mode": {
    "name": "ipython",
    "version": 3
   },
   "file_extension": ".py",
   "mimetype": "text/x-python",
   "name": "python",
   "nbconvert_exporter": "python",
   "pygments_lexer": "ipython3",
   "version": "3.12.7"
  }
 },
 "nbformat": 4,
 "nbformat_minor": 5
}
